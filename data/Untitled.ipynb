{
 "cells": [
  {
   "cell_type": "code",
   "execution_count": 2,
   "id": "b6ba8f88",
   "metadata": {},
   "outputs": [],
   "source": [
    "import pandas as pd\n",
    "import numpy as np"
   ]
  },
  {
   "cell_type": "code",
   "execution_count": 4,
   "id": "7727da94",
   "metadata": {},
   "outputs": [],
   "source": [
    "data = pd.read_csv('country_total_medal.csv')"
   ]
  },
  {
   "cell_type": "code",
   "execution_count": 5,
   "id": "d232d528",
   "metadata": {
    "scrolled": true
   },
   "outputs": [
    {
     "name": "stdout",
     "output_type": "stream",
     "text": [
      "<class 'pandas.core.frame.DataFrame'>\n",
      "RangeIndex: 75 entries, 0 to 74\n",
      "Data columns (total 5 columns):\n",
      " #   Column    Non-Null Count  Dtype  \n",
      "---  ------    --------------  -----  \n",
      " 0   country   75 non-null     object \n",
      " 1   total     75 non-null     int64  \n",
      " 2   lat       75 non-null     float64\n",
      " 3   long      75 non-null     float64\n",
      " 4   stadiums  10 non-null     float64\n",
      "dtypes: float64(3), int64(1), object(1)\n",
      "memory usage: 3.1+ KB\n"
     ]
    }
   ],
   "source": [
    "data.info()"
   ]
  },
  {
   "cell_type": "code",
   "execution_count": 6,
   "id": "6ebffe60",
   "metadata": {},
   "outputs": [],
   "source": [
    "data.dropna(inplace=True)"
   ]
  },
  {
   "cell_type": "code",
   "execution_count": 11,
   "id": "f51926a6",
   "metadata": {},
   "outputs": [
    {
     "name": "stdout",
     "output_type": "stream",
     "text": [
      "        country  total        lat        long  stadiums\n",
      "0     Australia   2416 -25.274398  133.775136     119.0\n",
      "1        Canada   1555  56.130366 -106.346771      40.0\n",
      "2       England   2144  52.355518   -1.174320     180.0\n",
      "3         India    502  20.440132   78.152548     179.0\n",
      "4         Kenya    237  -0.023559   37.906193      10.0\n",
      "5       Nigeria    236   9.081999    8.675277      43.0\n",
      "6   New Zealand    655 -40.900557  174.885971      25.0\n",
      "7  South Africa    389 -30.559482   22.937506      78.0\n",
      "8      Scotland    451  56.490671   -4.202646      42.0\n",
      "9         Wales    306  52.130661   -3.783712      52.0\n"
     ]
    }
   ],
   "source": [
    "print(data)"
   ]
  },
  {
   "cell_type": "code",
   "execution_count": 12,
   "id": "a8b95bec",
   "metadata": {},
   "outputs": [],
   "source": [
    "data.to_csv(\"country_total_medals.csv\",index=False)"
   ]
  }
 ],
 "metadata": {
  "kernelspec": {
   "display_name": "Python 3 (ipykernel)",
   "language": "python",
   "name": "python3"
  },
  "language_info": {
   "codemirror_mode": {
    "name": "ipython",
    "version": 3
   },
   "file_extension": ".py",
   "mimetype": "text/x-python",
   "name": "python",
   "nbconvert_exporter": "python",
   "pygments_lexer": "ipython3",
   "version": "3.10.9"
  }
 },
 "nbformat": 4,
 "nbformat_minor": 5
}
